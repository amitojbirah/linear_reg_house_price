{
 "cells": [
  {
   "cell_type": "code",
   "execution_count": 1,
   "id": "99040ad9",
   "metadata": {},
   "outputs": [],
   "source": [
    "import pandas as pd\n",
    "import numpy as np\n",
    "import seaborn as sns\n"
   ]
  },
  {
   "cell_type": "code",
   "execution_count": 2,
   "id": "7772f128",
   "metadata": {},
   "outputs": [],
   "source": [
    "df=pd.read_csv(\"housing.csv\")"
   ]
  },
  {
   "cell_type": "code",
   "execution_count": 3,
   "id": "04265291",
   "metadata": {},
   "outputs": [
    {
     "data": {
      "text/html": [
       "<div>\n",
       "<style scoped>\n",
       "    .dataframe tbody tr th:only-of-type {\n",
       "        vertical-align: middle;\n",
       "    }\n",
       "\n",
       "    .dataframe tbody tr th {\n",
       "        vertical-align: top;\n",
       "    }\n",
       "\n",
       "    .dataframe thead th {\n",
       "        text-align: right;\n",
       "    }\n",
       "</style>\n",
       "<table border=\"1\" class=\"dataframe\">\n",
       "  <thead>\n",
       "    <tr style=\"text-align: right;\">\n",
       "      <th></th>\n",
       "      <th>longitude</th>\n",
       "      <th>latitude</th>\n",
       "      <th>housing_median_age</th>\n",
       "      <th>total_rooms</th>\n",
       "      <th>total_bedrooms</th>\n",
       "      <th>population</th>\n",
       "      <th>households</th>\n",
       "      <th>median_income</th>\n",
       "      <th>median_house_value</th>\n",
       "      <th>ocean_proximity</th>\n",
       "    </tr>\n",
       "  </thead>\n",
       "  <tbody>\n",
       "    <tr>\n",
       "      <th>0</th>\n",
       "      <td>-122.23</td>\n",
       "      <td>37.88</td>\n",
       "      <td>41.0</td>\n",
       "      <td>880.0</td>\n",
       "      <td>129.0</td>\n",
       "      <td>322.0</td>\n",
       "      <td>126.0</td>\n",
       "      <td>8.3252</td>\n",
       "      <td>452600.0</td>\n",
       "      <td>NEAR BAY</td>\n",
       "    </tr>\n",
       "    <tr>\n",
       "      <th>1</th>\n",
       "      <td>-122.22</td>\n",
       "      <td>37.86</td>\n",
       "      <td>21.0</td>\n",
       "      <td>7099.0</td>\n",
       "      <td>1106.0</td>\n",
       "      <td>2401.0</td>\n",
       "      <td>1138.0</td>\n",
       "      <td>8.3014</td>\n",
       "      <td>358500.0</td>\n",
       "      <td>NEAR BAY</td>\n",
       "    </tr>\n",
       "    <tr>\n",
       "      <th>2</th>\n",
       "      <td>-122.24</td>\n",
       "      <td>37.85</td>\n",
       "      <td>52.0</td>\n",
       "      <td>1467.0</td>\n",
       "      <td>190.0</td>\n",
       "      <td>496.0</td>\n",
       "      <td>177.0</td>\n",
       "      <td>7.2574</td>\n",
       "      <td>352100.0</td>\n",
       "      <td>NEAR BAY</td>\n",
       "    </tr>\n",
       "    <tr>\n",
       "      <th>3</th>\n",
       "      <td>-122.25</td>\n",
       "      <td>37.85</td>\n",
       "      <td>52.0</td>\n",
       "      <td>1274.0</td>\n",
       "      <td>235.0</td>\n",
       "      <td>558.0</td>\n",
       "      <td>219.0</td>\n",
       "      <td>5.6431</td>\n",
       "      <td>341300.0</td>\n",
       "      <td>NEAR BAY</td>\n",
       "    </tr>\n",
       "    <tr>\n",
       "      <th>4</th>\n",
       "      <td>-122.25</td>\n",
       "      <td>37.85</td>\n",
       "      <td>52.0</td>\n",
       "      <td>1627.0</td>\n",
       "      <td>280.0</td>\n",
       "      <td>565.0</td>\n",
       "      <td>259.0</td>\n",
       "      <td>3.8462</td>\n",
       "      <td>342200.0</td>\n",
       "      <td>NEAR BAY</td>\n",
       "    </tr>\n",
       "  </tbody>\n",
       "</table>\n",
       "</div>"
      ],
      "text/plain": [
       "   longitude  latitude  housing_median_age  total_rooms  total_bedrooms  \\\n",
       "0    -122.23     37.88                41.0        880.0           129.0   \n",
       "1    -122.22     37.86                21.0       7099.0          1106.0   \n",
       "2    -122.24     37.85                52.0       1467.0           190.0   \n",
       "3    -122.25     37.85                52.0       1274.0           235.0   \n",
       "4    -122.25     37.85                52.0       1627.0           280.0   \n",
       "\n",
       "   population  households  median_income  median_house_value ocean_proximity  \n",
       "0       322.0       126.0         8.3252            452600.0        NEAR BAY  \n",
       "1      2401.0      1138.0         8.3014            358500.0        NEAR BAY  \n",
       "2       496.0       177.0         7.2574            352100.0        NEAR BAY  \n",
       "3       558.0       219.0         5.6431            341300.0        NEAR BAY  \n",
       "4       565.0       259.0         3.8462            342200.0        NEAR BAY  "
      ]
     },
     "execution_count": 3,
     "metadata": {},
     "output_type": "execute_result"
    }
   ],
   "source": [
    "df.head()"
   ]
  },
  {
   "cell_type": "code",
   "execution_count": 4,
   "id": "0257ac71",
   "metadata": {},
   "outputs": [
    {
     "data": {
      "text/plain": [
       "(20640, 10)"
      ]
     },
     "execution_count": 4,
     "metadata": {},
     "output_type": "execute_result"
    }
   ],
   "source": [
    "df.shape"
   ]
  },
  {
   "cell_type": "code",
   "execution_count": 5,
   "id": "0c1678a5",
   "metadata": {},
   "outputs": [
    {
     "data": {
      "text/html": [
       "<div>\n",
       "<style scoped>\n",
       "    .dataframe tbody tr th:only-of-type {\n",
       "        vertical-align: middle;\n",
       "    }\n",
       "\n",
       "    .dataframe tbody tr th {\n",
       "        vertical-align: top;\n",
       "    }\n",
       "\n",
       "    .dataframe thead th {\n",
       "        text-align: right;\n",
       "    }\n",
       "</style>\n",
       "<table border=\"1\" class=\"dataframe\">\n",
       "  <thead>\n",
       "    <tr style=\"text-align: right;\">\n",
       "      <th></th>\n",
       "      <th>longitude</th>\n",
       "      <th>latitude</th>\n",
       "      <th>housing_median_age</th>\n",
       "      <th>total_rooms</th>\n",
       "      <th>total_bedrooms</th>\n",
       "      <th>population</th>\n",
       "      <th>households</th>\n",
       "      <th>median_income</th>\n",
       "      <th>median_house_value</th>\n",
       "    </tr>\n",
       "  </thead>\n",
       "  <tbody>\n",
       "    <tr>\n",
       "      <th>count</th>\n",
       "      <td>20640.000000</td>\n",
       "      <td>20640.000000</td>\n",
       "      <td>20640.000000</td>\n",
       "      <td>20640.000000</td>\n",
       "      <td>20433.000000</td>\n",
       "      <td>20640.000000</td>\n",
       "      <td>20640.000000</td>\n",
       "      <td>20640.000000</td>\n",
       "      <td>20640.000000</td>\n",
       "    </tr>\n",
       "    <tr>\n",
       "      <th>mean</th>\n",
       "      <td>-119.569704</td>\n",
       "      <td>35.631861</td>\n",
       "      <td>28.639486</td>\n",
       "      <td>2635.763081</td>\n",
       "      <td>537.870553</td>\n",
       "      <td>1425.476744</td>\n",
       "      <td>499.539680</td>\n",
       "      <td>3.870671</td>\n",
       "      <td>206855.816909</td>\n",
       "    </tr>\n",
       "    <tr>\n",
       "      <th>std</th>\n",
       "      <td>2.003532</td>\n",
       "      <td>2.135952</td>\n",
       "      <td>12.585558</td>\n",
       "      <td>2181.615252</td>\n",
       "      <td>421.385070</td>\n",
       "      <td>1132.462122</td>\n",
       "      <td>382.329753</td>\n",
       "      <td>1.899822</td>\n",
       "      <td>115395.615874</td>\n",
       "    </tr>\n",
       "    <tr>\n",
       "      <th>min</th>\n",
       "      <td>-124.350000</td>\n",
       "      <td>32.540000</td>\n",
       "      <td>1.000000</td>\n",
       "      <td>2.000000</td>\n",
       "      <td>1.000000</td>\n",
       "      <td>3.000000</td>\n",
       "      <td>1.000000</td>\n",
       "      <td>0.499900</td>\n",
       "      <td>14999.000000</td>\n",
       "    </tr>\n",
       "    <tr>\n",
       "      <th>25%</th>\n",
       "      <td>-121.800000</td>\n",
       "      <td>33.930000</td>\n",
       "      <td>18.000000</td>\n",
       "      <td>1447.750000</td>\n",
       "      <td>296.000000</td>\n",
       "      <td>787.000000</td>\n",
       "      <td>280.000000</td>\n",
       "      <td>2.563400</td>\n",
       "      <td>119600.000000</td>\n",
       "    </tr>\n",
       "    <tr>\n",
       "      <th>50%</th>\n",
       "      <td>-118.490000</td>\n",
       "      <td>34.260000</td>\n",
       "      <td>29.000000</td>\n",
       "      <td>2127.000000</td>\n",
       "      <td>435.000000</td>\n",
       "      <td>1166.000000</td>\n",
       "      <td>409.000000</td>\n",
       "      <td>3.534800</td>\n",
       "      <td>179700.000000</td>\n",
       "    </tr>\n",
       "    <tr>\n",
       "      <th>75%</th>\n",
       "      <td>-118.010000</td>\n",
       "      <td>37.710000</td>\n",
       "      <td>37.000000</td>\n",
       "      <td>3148.000000</td>\n",
       "      <td>647.000000</td>\n",
       "      <td>1725.000000</td>\n",
       "      <td>605.000000</td>\n",
       "      <td>4.743250</td>\n",
       "      <td>264725.000000</td>\n",
       "    </tr>\n",
       "    <tr>\n",
       "      <th>max</th>\n",
       "      <td>-114.310000</td>\n",
       "      <td>41.950000</td>\n",
       "      <td>52.000000</td>\n",
       "      <td>39320.000000</td>\n",
       "      <td>6445.000000</td>\n",
       "      <td>35682.000000</td>\n",
       "      <td>6082.000000</td>\n",
       "      <td>15.000100</td>\n",
       "      <td>500001.000000</td>\n",
       "    </tr>\n",
       "  </tbody>\n",
       "</table>\n",
       "</div>"
      ],
      "text/plain": [
       "          longitude      latitude  housing_median_age   total_rooms  \\\n",
       "count  20640.000000  20640.000000        20640.000000  20640.000000   \n",
       "mean    -119.569704     35.631861           28.639486   2635.763081   \n",
       "std        2.003532      2.135952           12.585558   2181.615252   \n",
       "min     -124.350000     32.540000            1.000000      2.000000   \n",
       "25%     -121.800000     33.930000           18.000000   1447.750000   \n",
       "50%     -118.490000     34.260000           29.000000   2127.000000   \n",
       "75%     -118.010000     37.710000           37.000000   3148.000000   \n",
       "max     -114.310000     41.950000           52.000000  39320.000000   \n",
       "\n",
       "       total_bedrooms    population    households  median_income  \\\n",
       "count    20433.000000  20640.000000  20640.000000   20640.000000   \n",
       "mean       537.870553   1425.476744    499.539680       3.870671   \n",
       "std        421.385070   1132.462122    382.329753       1.899822   \n",
       "min          1.000000      3.000000      1.000000       0.499900   \n",
       "25%        296.000000    787.000000    280.000000       2.563400   \n",
       "50%        435.000000   1166.000000    409.000000       3.534800   \n",
       "75%        647.000000   1725.000000    605.000000       4.743250   \n",
       "max       6445.000000  35682.000000   6082.000000      15.000100   \n",
       "\n",
       "       median_house_value  \n",
       "count        20640.000000  \n",
       "mean        206855.816909  \n",
       "std         115395.615874  \n",
       "min          14999.000000  \n",
       "25%         119600.000000  \n",
       "50%         179700.000000  \n",
       "75%         264725.000000  \n",
       "max         500001.000000  "
      ]
     },
     "execution_count": 5,
     "metadata": {},
     "output_type": "execute_result"
    }
   ],
   "source": [
    "df.describe()"
   ]
  },
  {
   "cell_type": "code",
   "execution_count": 6,
   "id": "e87bdf57",
   "metadata": {},
   "outputs": [
    {
     "data": {
      "text/plain": [
       "<seaborn.axisgrid.JointGrid at 0x19546aa2ca0>"
      ]
     },
     "execution_count": 6,
     "metadata": {},
     "output_type": "execute_result"
    },
    {
     "data": {
      "image/png": "[encoded data removed]",
      "text/plain": [
       "<Figure size 432x432 with 3 Axes>"
      ]
     },
     "metadata": {
      "needs_background": "light"
     },
     "output_type": "display_data"
    }
   ],
   "source": [
    "sns.jointplot(x='total_bedrooms',y='median_house_value',data=df)"
   ]
  },
  {
   "cell_type": "code",
   "execution_count": 7,
   "id": "e63cfae3",
   "metadata": {},
   "outputs": [
    {
     "data": {
      "text/plain": [
       "<AxesSubplot:xlabel='ocean_proximity', ylabel='count'>"
      ]
     },
     "execution_count": 7,
     "metadata": {},
     "output_type": "execute_result"
    },
    {
     "data": {
      "image/png": "[encoded data removed]",
      "text/plain": [
       "<Figure size 432x288 with 1 Axes>"
      ]
     },
     "metadata": {
      "needs_background": "light"
     },
     "output_type": "display_data"
    }
   ],
   "source": [
    "sns.countplot(x='ocean_proximity',data=df)"
   ]
  },
  {
   "cell_type": "code",
   "execution_count": 8,
   "id": "4353f17a",
   "metadata": {},
   "outputs": [
    {
     "data": {
      "text/plain": [
       "11212.11000000003"
      ]
     },
     "execution_count": 8,
     "metadata": {},
     "output_type": "execute_result"
    }
   ],
   "source": [
    "uv=np.percentile(df.total_rooms,[99])[0]\n",
    "uv"
   ]
  },
  {
   "cell_type": "code",
   "execution_count": 9,
   "id": "1142f3c5",
   "metadata": {},
   "outputs": [
    {
     "data": {
      "text/html": [
       "<div>\n",
       "<style scoped>\n",
       "    .dataframe tbody tr th:only-of-type {\n",
       "        vertical-align: middle;\n",
       "    }\n",
       "\n",
       "    .dataframe tbody tr th {\n",
       "        vertical-align: top;\n",
       "    }\n",
       "\n",
       "    .dataframe thead th {\n",
       "        text-align: right;\n",
       "    }\n",
       "</style>\n",
       "<table border=\"1\" class=\"dataframe\">\n",
       "  <thead>\n",
       "    <tr style=\"text-align: right;\">\n",
       "      <th></th>\n",
       "      <th>longitude</th>\n",
       "      <th>latitude</th>\n",
       "      <th>housing_median_age</th>\n",
       "      <th>total_rooms</th>\n",
       "      <th>total_bedrooms</th>\n",
       "      <th>population</th>\n",
       "      <th>households</th>\n",
       "      <th>median_income</th>\n",
       "      <th>median_house_value</th>\n",
       "      <th>ocean_proximity</th>\n",
       "    </tr>\n",
       "  </thead>\n",
       "  <tbody>\n",
       "    <tr>\n",
       "      <th>283</th>\n",
       "      <td>-122.16</td>\n",
       "      <td>37.79</td>\n",
       "      <td>22.0</td>\n",
       "      <td>12842.0</td>\n",
       "      <td>2048.0</td>\n",
       "      <td>4985.0</td>\n",
       "      <td>1967.0</td>\n",
       "      <td>5.9849</td>\n",
       "      <td>371000.0</td>\n",
       "      <td>NEAR BAY</td>\n",
       "    </tr>\n",
       "    <tr>\n",
       "      <th>570</th>\n",
       "      <td>-122.24</td>\n",
       "      <td>37.72</td>\n",
       "      <td>5.0</td>\n",
       "      <td>18634.0</td>\n",
       "      <td>2885.0</td>\n",
       "      <td>7427.0</td>\n",
       "      <td>2718.0</td>\n",
       "      <td>7.6110</td>\n",
       "      <td>350700.0</td>\n",
       "      <td>NEAR BAY</td>\n",
       "    </tr>\n",
       "    <tr>\n",
       "      <th>576</th>\n",
       "      <td>-122.06</td>\n",
       "      <td>37.77</td>\n",
       "      <td>12.0</td>\n",
       "      <td>14316.0</td>\n",
       "      <td>2045.0</td>\n",
       "      <td>5781.0</td>\n",
       "      <td>2007.0</td>\n",
       "      <td>7.2634</td>\n",
       "      <td>341600.0</td>\n",
       "      <td>NEAR BAY</td>\n",
       "    </tr>\n",
       "    <tr>\n",
       "      <th>864</th>\n",
       "      <td>-122.01</td>\n",
       "      <td>37.57</td>\n",
       "      <td>14.0</td>\n",
       "      <td>16199.0</td>\n",
       "      <td>2993.0</td>\n",
       "      <td>8117.0</td>\n",
       "      <td>2847.0</td>\n",
       "      <td>5.8322</td>\n",
       "      <td>281800.0</td>\n",
       "      <td>NEAR BAY</td>\n",
       "    </tr>\n",
       "    <tr>\n",
       "      <th>865</th>\n",
       "      <td>-122.04</td>\n",
       "      <td>37.58</td>\n",
       "      <td>14.0</td>\n",
       "      <td>14917.0</td>\n",
       "      <td>2708.0</td>\n",
       "      <td>8012.0</td>\n",
       "      <td>2606.0</td>\n",
       "      <td>5.6277</td>\n",
       "      <td>269800.0</td>\n",
       "      <td>NEAR BAY</td>\n",
       "    </tr>\n",
       "    <tr>\n",
       "      <th>...</th>\n",
       "      <td>...</td>\n",
       "      <td>...</td>\n",
       "      <td>...</td>\n",
       "      <td>...</td>\n",
       "      <td>...</td>\n",
       "      <td>...</td>\n",
       "      <td>...</td>\n",
       "      <td>...</td>\n",
       "      <td>...</td>\n",
       "      <td>...</td>\n",
       "    </tr>\n",
       "    <tr>\n",
       "      <th>20427</th>\n",
       "      <td>-118.80</td>\n",
       "      <td>34.19</td>\n",
       "      <td>4.0</td>\n",
       "      <td>15572.0</td>\n",
       "      <td>2222.0</td>\n",
       "      <td>5495.0</td>\n",
       "      <td>2152.0</td>\n",
       "      <td>8.6499</td>\n",
       "      <td>500001.0</td>\n",
       "      <td>&lt;1H OCEAN</td>\n",
       "    </tr>\n",
       "    <tr>\n",
       "      <th>20440</th>\n",
       "      <td>-118.77</td>\n",
       "      <td>34.24</td>\n",
       "      <td>6.0</td>\n",
       "      <td>16222.0</td>\n",
       "      <td>2309.0</td>\n",
       "      <td>6700.0</td>\n",
       "      <td>2080.0</td>\n",
       "      <td>6.4963</td>\n",
       "      <td>308100.0</td>\n",
       "      <td>&lt;1H OCEAN</td>\n",
       "    </tr>\n",
       "    <tr>\n",
       "      <th>20451</th>\n",
       "      <td>-118.90</td>\n",
       "      <td>34.26</td>\n",
       "      <td>5.0</td>\n",
       "      <td>25187.0</td>\n",
       "      <td>3521.0</td>\n",
       "      <td>11956.0</td>\n",
       "      <td>3478.0</td>\n",
       "      <td>6.9712</td>\n",
       "      <td>321300.0</td>\n",
       "      <td>&lt;1H OCEAN</td>\n",
       "    </tr>\n",
       "    <tr>\n",
       "      <th>20530</th>\n",
       "      <td>-121.76</td>\n",
       "      <td>38.57</td>\n",
       "      <td>11.0</td>\n",
       "      <td>15018.0</td>\n",
       "      <td>3008.0</td>\n",
       "      <td>7984.0</td>\n",
       "      <td>2962.0</td>\n",
       "      <td>3.1371</td>\n",
       "      <td>201800.0</td>\n",
       "      <td>INLAND</td>\n",
       "    </tr>\n",
       "    <tr>\n",
       "      <th>20563</th>\n",
       "      <td>-121.75</td>\n",
       "      <td>38.67</td>\n",
       "      <td>9.0</td>\n",
       "      <td>12139.0</td>\n",
       "      <td>2640.0</td>\n",
       "      <td>6837.0</td>\n",
       "      <td>2358.0</td>\n",
       "      <td>3.1250</td>\n",
       "      <td>132500.0</td>\n",
       "      <td>INLAND</td>\n",
       "    </tr>\n",
       "  </tbody>\n",
       "</table>\n",
       "<p>207 rows × 10 columns</p>\n",
       "</div>"
      ],
      "text/plain": [
       "       longitude  latitude  housing_median_age  total_rooms  total_bedrooms  \\\n",
       "283      -122.16     37.79                22.0      12842.0          2048.0   \n",
       "570      -122.24     37.72                 5.0      18634.0          2885.0   \n",
       "576      -122.06     37.77                12.0      14316.0          2045.0   \n",
       "864      -122.01     37.57                14.0      16199.0          2993.0   \n",
       "865      -122.04     37.58                14.0      14917.0          2708.0   \n",
       "...          ...       ...                 ...          ...             ...   \n",
       "20427    -118.80     34.19                 4.0      15572.0          2222.0   \n",
       "20440    -118.77     34.24                 6.0      16222.0          2309.0   \n",
       "20451    -118.90     34.26                 5.0      25187.0          3521.0   \n",
       "20530    -121.76     38.57                11.0      15018.0          3008.0   \n",
       "20563    -121.75     38.67                 9.0      12139.0          2640.0   \n",
       "\n",
       "       population  households  median_income  median_house_value  \\\n",
       "283        4985.0      1967.0         5.9849            371000.0   \n",
       "570        7427.0      2718.0         7.6110            350700.0   \n",
       "576        5781.0      2007.0         7.2634            341600.0   \n",
       "864        8117.0      2847.0         5.8322            281800.0   \n",
       "865        8012.0      2606.0         5.6277            269800.0   \n",
       "...           ...         ...            ...                 ...   \n",
       "20427      5495.0      2152.0         8.6499            500001.0   \n",
       "20440      6700.0      2080.0         6.4963            308100.0   \n",
       "20451     11956.0      3478.0         6.9712            321300.0   \n",
       "20530      7984.0      2962.0         3.1371            201800.0   \n",
       "20563      6837.0      2358.0         3.1250            132500.0   \n",
       "\n",
       "      ocean_proximity  \n",
       "283          NEAR BAY  \n",
       "570          NEAR BAY  \n",
       "576          NEAR BAY  \n",
       "864          NEAR BAY  \n",
       "865          NEAR BAY  \n",
       "...               ...  \n",
       "20427       <1H OCEAN  \n",
       "20440       <1H OCEAN  \n",
       "20451       <1H OCEAN  \n",
       "20530          INLAND  \n",
       "20563          INLAND  \n",
       "\n",
       "[207 rows x 10 columns]"
      ]
     },
     "execution_count": 9,
     "metadata": {},
     "output_type": "execute_result"
    }
   ],
   "source": [
    "df[df.total_rooms>uv]"
   ]
  },
  {
   "cell_type": "code",
   "execution_count": 10,
   "id": "8132fe10",
   "metadata": {},
   "outputs": [
    {
     "name": "stderr",
     "output_type": "stream",
     "text": [
      "C:\\Users\\hp\\AppData\\Local\\Temp/ipykernel_2176/1956270271.py:1: SettingWithCopyWarning: \n",
      "A value is trying to be set on a copy of a slice from a DataFrame\n",
      "\n",
      "See the caveats in the documentation: https://pandas.pydata.org/pandas-docs/stable/user_guide/indexing.html#returning-a-view-versus-a-copy\n",
      "  df.total_rooms[(df.total_rooms>uv)]=2*uv\n"
     ]
    }
   ],
   "source": [
    "df.total_rooms[(df.total_rooms>uv)]=2*uv"
   ]
  },
  {
   "cell_type": "code",
   "execution_count": 11,
   "id": "d7beaf51",
   "metadata": {},
   "outputs": [
    {
     "data": {
      "text/html": [
       "<div>\n",
       "<style scoped>\n",
       "    .dataframe tbody tr th:only-of-type {\n",
       "        vertical-align: middle;\n",
       "    }\n",
       "\n",
       "    .dataframe tbody tr th {\n",
       "        vertical-align: top;\n",
       "    }\n",
       "\n",
       "    .dataframe thead th {\n",
       "        text-align: right;\n",
       "    }\n",
       "</style>\n",
       "<table border=\"1\" class=\"dataframe\">\n",
       "  <thead>\n",
       "    <tr style=\"text-align: right;\">\n",
       "      <th></th>\n",
       "      <th>longitude</th>\n",
       "      <th>latitude</th>\n",
       "      <th>housing_median_age</th>\n",
       "      <th>total_rooms</th>\n",
       "      <th>total_bedrooms</th>\n",
       "      <th>population</th>\n",
       "      <th>households</th>\n",
       "      <th>median_income</th>\n",
       "      <th>median_house_value</th>\n",
       "      <th>ocean_proximity</th>\n",
       "    </tr>\n",
       "  </thead>\n",
       "  <tbody>\n",
       "    <tr>\n",
       "      <th>283</th>\n",
       "      <td>-122.16</td>\n",
       "      <td>37.79</td>\n",
       "      <td>22.0</td>\n",
       "      <td>22424.22</td>\n",
       "      <td>2048.0</td>\n",
       "      <td>4985.0</td>\n",
       "      <td>1967.0</td>\n",
       "      <td>5.9849</td>\n",
       "      <td>371000.0</td>\n",
       "      <td>NEAR BAY</td>\n",
       "    </tr>\n",
       "    <tr>\n",
       "      <th>570</th>\n",
       "      <td>-122.24</td>\n",
       "      <td>37.72</td>\n",
       "      <td>5.0</td>\n",
       "      <td>22424.22</td>\n",
       "      <td>2885.0</td>\n",
       "      <td>7427.0</td>\n",
       "      <td>2718.0</td>\n",
       "      <td>7.6110</td>\n",
       "      <td>350700.0</td>\n",
       "      <td>NEAR BAY</td>\n",
       "    </tr>\n",
       "    <tr>\n",
       "      <th>576</th>\n",
       "      <td>-122.06</td>\n",
       "      <td>37.77</td>\n",
       "      <td>12.0</td>\n",
       "      <td>22424.22</td>\n",
       "      <td>2045.0</td>\n",
       "      <td>5781.0</td>\n",
       "      <td>2007.0</td>\n",
       "      <td>7.2634</td>\n",
       "      <td>341600.0</td>\n",
       "      <td>NEAR BAY</td>\n",
       "    </tr>\n",
       "    <tr>\n",
       "      <th>864</th>\n",
       "      <td>-122.01</td>\n",
       "      <td>37.57</td>\n",
       "      <td>14.0</td>\n",
       "      <td>22424.22</td>\n",
       "      <td>2993.0</td>\n",
       "      <td>8117.0</td>\n",
       "      <td>2847.0</td>\n",
       "      <td>5.8322</td>\n",
       "      <td>281800.0</td>\n",
       "      <td>NEAR BAY</td>\n",
       "    </tr>\n",
       "    <tr>\n",
       "      <th>865</th>\n",
       "      <td>-122.04</td>\n",
       "      <td>37.58</td>\n",
       "      <td>14.0</td>\n",
       "      <td>22424.22</td>\n",
       "      <td>2708.0</td>\n",
       "      <td>8012.0</td>\n",
       "      <td>2606.0</td>\n",
       "      <td>5.6277</td>\n",
       "      <td>269800.0</td>\n",
       "      <td>NEAR BAY</td>\n",
       "    </tr>\n",
       "    <tr>\n",
       "      <th>...</th>\n",
       "      <td>...</td>\n",
       "      <td>...</td>\n",
       "      <td>...</td>\n",
       "      <td>...</td>\n",
       "      <td>...</td>\n",
       "      <td>...</td>\n",
       "      <td>...</td>\n",
       "      <td>...</td>\n",
       "      <td>...</td>\n",
       "      <td>...</td>\n",
       "    </tr>\n",
       "    <tr>\n",
       "      <th>20427</th>\n",
       "      <td>-118.80</td>\n",
       "      <td>34.19</td>\n",
       "      <td>4.0</td>\n",
       "      <td>22424.22</td>\n",
       "      <td>2222.0</td>\n",
       "      <td>5495.0</td>\n",
       "      <td>2152.0</td>\n",
       "      <td>8.6499</td>\n",
       "      <td>500001.0</td>\n",
       "      <td>&lt;1H OCEAN</td>\n",
       "    </tr>\n",
       "    <tr>\n",
       "      <th>20440</th>\n",
       "      <td>-118.77</td>\n",
       "      <td>34.24</td>\n",
       "      <td>6.0</td>\n",
       "      <td>22424.22</td>\n",
       "      <td>2309.0</td>\n",
       "      <td>6700.0</td>\n",
       "      <td>2080.0</td>\n",
       "      <td>6.4963</td>\n",
       "      <td>308100.0</td>\n",
       "      <td>&lt;1H OCEAN</td>\n",
       "    </tr>\n",
       "    <tr>\n",
       "      <th>20451</th>\n",
       "      <td>-118.90</td>\n",
       "      <td>34.26</td>\n",
       "      <td>5.0</td>\n",
       "      <td>22424.22</td>\n",
       "      <td>3521.0</td>\n",
       "      <td>11956.0</td>\n",
       "      <td>3478.0</td>\n",
       "      <td>6.9712</td>\n",
       "      <td>321300.0</td>\n",
       "      <td>&lt;1H OCEAN</td>\n",
       "    </tr>\n",
       "    <tr>\n",
       "      <th>20530</th>\n",
       "      <td>-121.76</td>\n",
       "      <td>38.57</td>\n",
       "      <td>11.0</td>\n",
       "      <td>22424.22</td>\n",
       "      <td>3008.0</td>\n",
       "      <td>7984.0</td>\n",
       "      <td>2962.0</td>\n",
       "      <td>3.1371</td>\n",
       "      <td>201800.0</td>\n",
       "      <td>INLAND</td>\n",
       "    </tr>\n",
       "    <tr>\n",
       "      <th>20563</th>\n",
       "      <td>-121.75</td>\n",
       "      <td>38.67</td>\n",
       "      <td>9.0</td>\n",
       "      <td>22424.22</td>\n",
       "      <td>2640.0</td>\n",
       "      <td>6837.0</td>\n",
       "      <td>2358.0</td>\n",
       "      <td>3.1250</td>\n",
       "      <td>132500.0</td>\n",
       "      <td>INLAND</td>\n",
       "    </tr>\n",
       "  </tbody>\n",
       "</table>\n",
       "<p>207 rows × 10 columns</p>\n",
       "</div>"
      ],
      "text/plain": [
       "       longitude  latitude  housing_median_age  total_rooms  total_bedrooms  \\\n",
       "283      -122.16     37.79                22.0     22424.22          2048.0   \n",
       "570      -122.24     37.72                 5.0     22424.22          2885.0   \n",
       "576      -122.06     37.77                12.0     22424.22          2045.0   \n",
       "864      -122.01     37.57                14.0     22424.22          2993.0   \n",
       "865      -122.04     37.58                14.0     22424.22          2708.0   \n",
       "...          ...       ...                 ...          ...             ...   \n",
       "20427    -118.80     34.19                 4.0     22424.22          2222.0   \n",
       "20440    -118.77     34.24                 6.0     22424.22          2309.0   \n",
       "20451    -118.90     34.26                 5.0     22424.22          3521.0   \n",
       "20530    -121.76     38.57                11.0     22424.22          3008.0   \n",
       "20563    -121.75     38.67                 9.0     22424.22          2640.0   \n",
       "\n",
       "       population  households  median_income  median_house_value  \\\n",
       "283        4985.0      1967.0         5.9849            371000.0   \n",
       "570        7427.0      2718.0         7.6110            350700.0   \n",
       "576        5781.0      2007.0         7.2634            341600.0   \n",
       "864        8117.0      2847.0         5.8322            281800.0   \n",
       "865        8012.0      2606.0         5.6277            269800.0   \n",
       "...           ...         ...            ...                 ...   \n",
       "20427      5495.0      2152.0         8.6499            500001.0   \n",
       "20440      6700.0      2080.0         6.4963            308100.0   \n",
       "20451     11956.0      3478.0         6.9712            321300.0   \n",
       "20530      7984.0      2962.0         3.1371            201800.0   \n",
       "20563      6837.0      2358.0         3.1250            132500.0   \n",
       "\n",
       "      ocean_proximity  \n",
       "283          NEAR BAY  \n",
       "570          NEAR BAY  \n",
       "576          NEAR BAY  \n",
       "864          NEAR BAY  \n",
       "865          NEAR BAY  \n",
       "...               ...  \n",
       "20427       <1H OCEAN  \n",
       "20440       <1H OCEAN  \n",
       "20451       <1H OCEAN  \n",
       "20530          INLAND  \n",
       "20563          INLAND  \n",
       "\n",
       "[207 rows x 10 columns]"
      ]
     },
     "execution_count": 11,
     "metadata": {},
     "output_type": "execute_result"
    }
   ],
   "source": [
    "df[df.total_rooms>uv]"
   ]
  },
  {
   "cell_type": "code",
   "execution_count": 12,
   "id": "287d30a4",
   "metadata": {},
   "outputs": [
    {
     "name": "stdout",
     "output_type": "stream",
     "text": [
      "<class 'pandas.core.frame.DataFrame'>\n",
      "RangeIndex: 20640 entries, 0 to 20639\n",
      "Data columns (total 10 columns):\n",
      " #   Column              Non-Null Count  Dtype  \n",
      "---  ------              --------------  -----  \n",
      " 0   longitude           20640 non-null  float64\n",
      " 1   latitude            20640 non-null  float64\n",
      " 2   housing_median_age  20640 non-null  float64\n",
      " 3   total_rooms         20640 non-null  float64\n",
      " 4   total_bedrooms      20433 non-null  float64\n",
      " 5   population          20640 non-null  float64\n",
      " 6   households          20640 non-null  float64\n",
      " 7   median_income       20640 non-null  float64\n",
      " 8   median_house_value  20640 non-null  float64\n",
      " 9   ocean_proximity     20640 non-null  object \n",
      "dtypes: float64(9), object(1)\n",
      "memory usage: 1.6+ MB\n"
     ]
    }
   ],
   "source": [
    "df.info()"
   ]
  },
  {
   "cell_type": "code",
   "execution_count": 13,
   "id": "fea919cd",
   "metadata": {},
   "outputs": [],
   "source": [
    "df.total_bedrooms=df.total_bedrooms.fillna(df.total_bedrooms.mean, inplace=True)"
   ]
  },
  {
   "cell_type": "code",
   "execution_count": 14,
   "id": "0fef596c",
   "metadata": {},
   "outputs": [
    {
     "data": {
      "text/html": [
       "<div>\n",
       "<style scoped>\n",
       "    .dataframe tbody tr th:only-of-type {\n",
       "        vertical-align: middle;\n",
       "    }\n",
       "\n",
       "    .dataframe tbody tr th {\n",
       "        vertical-align: top;\n",
       "    }\n",
       "\n",
       "    .dataframe thead th {\n",
       "        text-align: right;\n",
       "    }\n",
       "</style>\n",
       "<table border=\"1\" class=\"dataframe\">\n",
       "  <thead>\n",
       "    <tr style=\"text-align: right;\">\n",
       "      <th></th>\n",
       "      <th>longitude</th>\n",
       "      <th>latitude</th>\n",
       "      <th>housing_median_age</th>\n",
       "      <th>total_rooms</th>\n",
       "      <th>population</th>\n",
       "      <th>households</th>\n",
       "      <th>median_income</th>\n",
       "      <th>median_house_value</th>\n",
       "    </tr>\n",
       "  </thead>\n",
       "  <tbody>\n",
       "    <tr>\n",
       "      <th>longitude</th>\n",
       "      <td>1.000000</td>\n",
       "      <td>-0.924664</td>\n",
       "      <td>-0.108197</td>\n",
       "      <td>0.045522</td>\n",
       "      <td>0.099773</td>\n",
       "      <td>0.055310</td>\n",
       "      <td>-0.015176</td>\n",
       "      <td>-0.045967</td>\n",
       "    </tr>\n",
       "    <tr>\n",
       "      <th>latitude</th>\n",
       "      <td>-0.924664</td>\n",
       "      <td>1.000000</td>\n",
       "      <td>0.011173</td>\n",
       "      <td>-0.035373</td>\n",
       "      <td>-0.108785</td>\n",
       "      <td>-0.071035</td>\n",
       "      <td>-0.079809</td>\n",
       "      <td>-0.144160</td>\n",
       "    </tr>\n",
       "    <tr>\n",
       "      <th>housing_median_age</th>\n",
       "      <td>-0.108197</td>\n",
       "      <td>0.011173</td>\n",
       "      <td>1.000000</td>\n",
       "      <td>-0.339532</td>\n",
       "      <td>-0.296244</td>\n",
       "      <td>-0.302916</td>\n",
       "      <td>-0.119034</td>\n",
       "      <td>0.105623</td>\n",
       "    </tr>\n",
       "    <tr>\n",
       "      <th>total_rooms</th>\n",
       "      <td>0.045522</td>\n",
       "      <td>-0.035373</td>\n",
       "      <td>-0.339532</td>\n",
       "      <td>1.000000</td>\n",
       "      <td>0.811635</td>\n",
       "      <td>0.877398</td>\n",
       "      <td>0.182176</td>\n",
       "      <td>0.119352</td>\n",
       "    </tr>\n",
       "    <tr>\n",
       "      <th>population</th>\n",
       "      <td>0.099773</td>\n",
       "      <td>-0.108785</td>\n",
       "      <td>-0.296244</td>\n",
       "      <td>0.811635</td>\n",
       "      <td>1.000000</td>\n",
       "      <td>0.907222</td>\n",
       "      <td>0.004834</td>\n",
       "      <td>-0.024650</td>\n",
       "    </tr>\n",
       "    <tr>\n",
       "      <th>households</th>\n",
       "      <td>0.055310</td>\n",
       "      <td>-0.071035</td>\n",
       "      <td>-0.302916</td>\n",
       "      <td>0.877398</td>\n",
       "      <td>0.907222</td>\n",
       "      <td>1.000000</td>\n",
       "      <td>0.013033</td>\n",
       "      <td>0.065843</td>\n",
       "    </tr>\n",
       "    <tr>\n",
       "      <th>median_income</th>\n",
       "      <td>-0.015176</td>\n",
       "      <td>-0.079809</td>\n",
       "      <td>-0.119034</td>\n",
       "      <td>0.182176</td>\n",
       "      <td>0.004834</td>\n",
       "      <td>0.013033</td>\n",
       "      <td>1.000000</td>\n",
       "      <td>0.688075</td>\n",
       "    </tr>\n",
       "    <tr>\n",
       "      <th>median_house_value</th>\n",
       "      <td>-0.045967</td>\n",
       "      <td>-0.144160</td>\n",
       "      <td>0.105623</td>\n",
       "      <td>0.119352</td>\n",
       "      <td>-0.024650</td>\n",
       "      <td>0.065843</td>\n",
       "      <td>0.688075</td>\n",
       "      <td>1.000000</td>\n",
       "    </tr>\n",
       "  </tbody>\n",
       "</table>\n",
       "</div>"
      ],
      "text/plain": [
       "                    longitude  latitude  housing_median_age  total_rooms  \\\n",
       "longitude            1.000000 -0.924664           -0.108197     0.045522   \n",
       "latitude            -0.924664  1.000000            0.011173    -0.035373   \n",
       "housing_median_age  -0.108197  0.011173            1.000000    -0.339532   \n",
       "total_rooms          0.045522 -0.035373           -0.339532     1.000000   \n",
       "population           0.099773 -0.108785           -0.296244     0.811635   \n",
       "households           0.055310 -0.071035           -0.302916     0.877398   \n",
       "median_income       -0.015176 -0.079809           -0.119034     0.182176   \n",
       "median_house_value  -0.045967 -0.144160            0.105623     0.119352   \n",
       "\n",
       "                    population  households  median_income  median_house_value  \n",
       "longitude             0.099773    0.055310      -0.015176           -0.045967  \n",
       "latitude             -0.108785   -0.071035      -0.079809           -0.144160  \n",
       "housing_median_age   -0.296244   -0.302916      -0.119034            0.105623  \n",
       "total_rooms           0.811635    0.877398       0.182176            0.119352  \n",
       "population            1.000000    0.907222       0.004834           -0.024650  \n",
       "households            0.907222    1.000000       0.013033            0.065843  \n",
       "median_income         0.004834    0.013033       1.000000            0.688075  \n",
       "median_house_value   -0.024650    0.065843       0.688075            1.000000  "
      ]
     },
     "execution_count": 14,
     "metadata": {},
     "output_type": "execute_result"
    }
   ],
   "source": [
    "df.corr()"
   ]
  },
  {
   "cell_type": "code",
   "execution_count": 15,
   "id": "c2348b40",
   "metadata": {},
   "outputs": [
    {
     "data": {
      "text/html": [
       "<div>\n",
       "<style scoped>\n",
       "    .dataframe tbody tr th:only-of-type {\n",
       "        vertical-align: middle;\n",
       "    }\n",
       "\n",
       "    .dataframe tbody tr th {\n",
       "        vertical-align: top;\n",
       "    }\n",
       "\n",
       "    .dataframe thead th {\n",
       "        text-align: right;\n",
       "    }\n",
       "</style>\n",
       "<table border=\"1\" class=\"dataframe\">\n",
       "  <thead>\n",
       "    <tr style=\"text-align: right;\">\n",
       "      <th></th>\n",
       "      <th>&lt;1H OCEAN</th>\n",
       "      <th>INLAND</th>\n",
       "      <th>ISLAND</th>\n",
       "      <th>NEAR BAY</th>\n",
       "      <th>NEAR OCEAN</th>\n",
       "    </tr>\n",
       "  </thead>\n",
       "  <tbody>\n",
       "    <tr>\n",
       "      <th>0</th>\n",
       "      <td>0</td>\n",
       "      <td>0</td>\n",
       "      <td>0</td>\n",
       "      <td>1</td>\n",
       "      <td>0</td>\n",
       "    </tr>\n",
       "    <tr>\n",
       "      <th>1</th>\n",
       "      <td>0</td>\n",
       "      <td>0</td>\n",
       "      <td>0</td>\n",
       "      <td>1</td>\n",
       "      <td>0</td>\n",
       "    </tr>\n",
       "    <tr>\n",
       "      <th>2</th>\n",
       "      <td>0</td>\n",
       "      <td>0</td>\n",
       "      <td>0</td>\n",
       "      <td>1</td>\n",
       "      <td>0</td>\n",
       "    </tr>\n",
       "    <tr>\n",
       "      <th>3</th>\n",
       "      <td>0</td>\n",
       "      <td>0</td>\n",
       "      <td>0</td>\n",
       "      <td>1</td>\n",
       "      <td>0</td>\n",
       "    </tr>\n",
       "    <tr>\n",
       "      <th>4</th>\n",
       "      <td>0</td>\n",
       "      <td>0</td>\n",
       "      <td>0</td>\n",
       "      <td>1</td>\n",
       "      <td>0</td>\n",
       "    </tr>\n",
       "    <tr>\n",
       "      <th>...</th>\n",
       "      <td>...</td>\n",
       "      <td>...</td>\n",
       "      <td>...</td>\n",
       "      <td>...</td>\n",
       "      <td>...</td>\n",
       "    </tr>\n",
       "    <tr>\n",
       "      <th>20635</th>\n",
       "      <td>0</td>\n",
       "      <td>1</td>\n",
       "      <td>0</td>\n",
       "      <td>0</td>\n",
       "      <td>0</td>\n",
       "    </tr>\n",
       "    <tr>\n",
       "      <th>20636</th>\n",
       "      <td>0</td>\n",
       "      <td>1</td>\n",
       "      <td>0</td>\n",
       "      <td>0</td>\n",
       "      <td>0</td>\n",
       "    </tr>\n",
       "    <tr>\n",
       "      <th>20637</th>\n",
       "      <td>0</td>\n",
       "      <td>1</td>\n",
       "      <td>0</td>\n",
       "      <td>0</td>\n",
       "      <td>0</td>\n",
       "    </tr>\n",
       "    <tr>\n",
       "      <th>20638</th>\n",
       "      <td>0</td>\n",
       "      <td>1</td>\n",
       "      <td>0</td>\n",
       "      <td>0</td>\n",
       "      <td>0</td>\n",
       "    </tr>\n",
       "    <tr>\n",
       "      <th>20639</th>\n",
       "      <td>0</td>\n",
       "      <td>1</td>\n",
       "      <td>0</td>\n",
       "      <td>0</td>\n",
       "      <td>0</td>\n",
       "    </tr>\n",
       "  </tbody>\n",
       "</table>\n",
       "<p>20640 rows × 5 columns</p>\n",
       "</div>"
      ],
      "text/plain": [
       "       <1H OCEAN  INLAND  ISLAND  NEAR BAY  NEAR OCEAN\n",
       "0              0       0       0         1           0\n",
       "1              0       0       0         1           0\n",
       "2              0       0       0         1           0\n",
       "3              0       0       0         1           0\n",
       "4              0       0       0         1           0\n",
       "...          ...     ...     ...       ...         ...\n",
       "20635          0       1       0         0           0\n",
       "20636          0       1       0         0           0\n",
       "20637          0       1       0         0           0\n",
       "20638          0       1       0         0           0\n",
       "20639          0       1       0         0           0\n",
       "\n",
       "[20640 rows x 5 columns]"
      ]
     },
     "execution_count": 15,
     "metadata": {},
     "output_type": "execute_result"
    }
   ],
   "source": [
    "dum=pd.get_dummies(df['ocean_proximity'])\n",
    "dum"
   ]
  },
  {
   "cell_type": "code",
   "execution_count": 16,
   "id": "1731050a",
   "metadata": {},
   "outputs": [],
   "source": [
    "del dum['<1H OCEAN']\n",
    "del dum['INLAND']\n",
    "del dum['ISLAND']\n",
    "del dum['NEAR OCEAN']\n",
    "\n"
   ]
  },
  {
   "cell_type": "code",
   "execution_count": 17,
   "id": "65df6349",
   "metadata": {},
   "outputs": [],
   "source": [
    "del df['total_bedrooms']\n",
    "del df['ocean_proximity']"
   ]
  },
  {
   "cell_type": "code",
   "execution_count": 18,
   "id": "29d75ea0",
   "metadata": {},
   "outputs": [],
   "source": [
    "df['ocean']=dum\n",
    "\n"
   ]
  },
  {
   "cell_type": "code",
   "execution_count": 19,
   "id": "0a70d9af",
   "metadata": {
    "scrolled": true
   },
   "outputs": [
    {
     "name": "stdout",
     "output_type": "stream",
     "text": [
      "<class 'pandas.core.frame.DataFrame'>\n",
      "RangeIndex: 20640 entries, 0 to 20639\n",
      "Data columns (total 9 columns):\n",
      " #   Column              Non-Null Count  Dtype  \n",
      "---  ------              --------------  -----  \n",
      " 0   longitude           20640 non-null  float64\n",
      " 1   latitude            20640 non-null  float64\n",
      " 2   housing_median_age  20640 non-null  float64\n",
      " 3   total_rooms         20640 non-null  float64\n",
      " 4   population          20640 non-null  float64\n",
      " 5   households          20640 non-null  float64\n",
      " 6   median_income       20640 non-null  float64\n",
      " 7   median_house_value  20640 non-null  float64\n",
      " 8   ocean               20640 non-null  uint8  \n",
      "dtypes: float64(8), uint8(1)\n",
      "memory usage: 1.3 MB\n"
     ]
    }
   ],
   "source": [
    "df.info()"
   ]
  },
  {
   "cell_type": "code",
   "execution_count": 20,
   "id": "88f88374",
   "metadata": {},
   "outputs": [],
   "source": [
    "from sklearn.linear_model import LinearRegression"
   ]
  },
  {
   "cell_type": "code",
   "execution_count": 21,
   "id": "a9f34749",
   "metadata": {},
   "outputs": [],
   "source": [
    "y=df['median_house_value']"
   ]
  },
  {
   "cell_type": "code",
   "execution_count": 22,
   "id": "fa6117c1",
   "metadata": {},
   "outputs": [],
   "source": [
    "x=df[['median_income']]"
   ]
  },
  {
   "cell_type": "code",
   "execution_count": 23,
   "id": "1ecf131a",
   "metadata": {},
   "outputs": [
    {
     "name": "stdout",
     "output_type": "stream",
     "text": [
      "(20640, 1) (20640,)\n"
     ]
    }
   ],
   "source": [
    "print(x.shape,y.shape)"
   ]
  },
  {
   "cell_type": "code",
   "execution_count": 24,
   "id": "ec3c8159",
   "metadata": {},
   "outputs": [],
   "source": [
    "lm=LinearRegression()"
   ]
  },
  {
   "cell_type": "code",
   "execution_count": 25,
   "id": "84240a09",
   "metadata": {},
   "outputs": [
    {
     "data": {
      "text/plain": [
       "LinearRegression()"
      ]
     },
     "execution_count": 25,
     "metadata": {},
     "output_type": "execute_result"
    }
   ],
   "source": [
    "lm.fit(x,y)"
   ]
  },
  {
   "cell_type": "code",
   "execution_count": 26,
   "id": "ff8cb506",
   "metadata": {},
   "outputs": [
    {
     "data": {
      "text/plain": [
       "array([393027.73007889, 392033.03646789, 348400.25790111, ...,\n",
       "       116135.12034649, 123123.05193305, 144914.36490692])"
      ]
     },
     "execution_count": 26,
     "metadata": {},
     "output_type": "execute_result"
    }
   ],
   "source": [
    "lm.predict(x)"
   ]
  },
  {
   "cell_type": "code",
   "execution_count": 27,
   "id": "70bd167b",
   "metadata": {},
   "outputs": [
    {
     "data": {
      "text/plain": [
       "<seaborn.axisgrid.JointGrid at 0x19547d0f940>"
      ]
     },
     "execution_count": 27,
     "metadata": {},
     "output_type": "execute_result"
    },
    {
     "data": {
      "image/png": "[encoded data removed]",
      "text/plain": [
       "<Figure size 432x432 with 3 Axes>"
      ]
     },
     "metadata": {
      "needs_background": "light"
     },
     "output_type": "display_data"
    }
   ],
   "source": [
    "sns.jointplot(x=df['median_income'],y=df['median_house_value'],data=df,kind='reg')"
   ]
  },
  {
   "cell_type": "code",
   "execution_count": 28,
   "id": "e57631a0",
   "metadata": {},
   "outputs": [],
   "source": [
    "x1=df.drop(\"median_house_value\",axis=1)"
   ]
  },
  {
   "cell_type": "code",
   "execution_count": 29,
   "id": "dbe9ef09",
   "metadata": {},
   "outputs": [],
   "source": [
    "y1=df['median_house_value']"
   ]
  },
  {
   "cell_type": "code",
   "execution_count": 30,
   "id": "3e1ea218",
   "metadata": {},
   "outputs": [
    {
     "name": "stdout",
     "output_type": "stream",
     "text": [
      "(20640, 8) (20640,)\n"
     ]
    }
   ],
   "source": [
    "print(x1.shape,y1.shape)"
   ]
  },
  {
   "cell_type": "code",
   "execution_count": 31,
   "id": "a21d6b15",
   "metadata": {},
   "outputs": [],
   "source": [
    "from sklearn.model_selection import train_test_split"
   ]
  },
  {
   "cell_type": "code",
   "execution_count": 32,
   "id": "6d1d6baa",
   "metadata": {},
   "outputs": [],
   "source": [
    "x_train,x_test,y_train,y_test=train_test_split(x1,y1,test_size=0.2,random_state=0)"
   ]
  },
  {
   "cell_type": "code",
   "execution_count": 33,
   "id": "b0732274",
   "metadata": {},
   "outputs": [
    {
     "name": "stdout",
     "output_type": "stream",
     "text": [
      "(16512, 8) (16512,) (4128, 8) (4128,)\n"
     ]
    }
   ],
   "source": [
    "print(x_train.shape,y_train.shape,x_test.shape,y_test.shape)"
   ]
  },
  {
   "cell_type": "code",
   "execution_count": 34,
   "id": "f3fea2e8",
   "metadata": {},
   "outputs": [],
   "source": [
    "lm1=LinearRegression()"
   ]
  },
  {
   "cell_type": "code",
   "execution_count": 35,
   "id": "b452adcf",
   "metadata": {},
   "outputs": [
    {
     "data": {
      "text/plain": [
       "LinearRegression()"
      ]
     },
     "execution_count": 35,
     "metadata": {},
     "output_type": "execute_result"
    }
   ],
   "source": [
    "lm1.fit(x_train, y_train)"
   ]
  },
  {
   "cell_type": "code",
   "execution_count": 36,
   "id": "95d1dd5c",
   "metadata": {},
   "outputs": [],
   "source": [
    "y2=lm1.predict(x_test)"
   ]
  },
  {
   "cell_type": "code",
   "execution_count": 37,
   "id": "a45bd5e8",
   "metadata": {},
   "outputs": [],
   "source": [
    "from sklearn.metrics import r2_score"
   ]
  },
  {
   "cell_type": "code",
   "execution_count": 38,
   "id": "da3fb88d",
   "metadata": {},
   "outputs": [
    {
     "data": {
      "text/plain": [
       "0.6218124302416045"
      ]
     },
     "execution_count": 38,
     "metadata": {},
     "output_type": "execute_result"
    }
   ],
   "source": [
    "r2_score(y_test,y2)"
   ]
  },
  {
   "cell_type": "code",
   "execution_count": 39,
   "id": "b2401d76",
   "metadata": {},
   "outputs": [],
   "source": [
    "from sklearn import preprocessing"
   ]
  },
  {
   "cell_type": "code",
   "execution_count": 40,
   "id": "387de30c",
   "metadata": {},
   "outputs": [],
   "source": [
    "scaler=preprocessing.StandardScaler().fit(x_train)"
   ]
  },
  {
   "cell_type": "code",
   "execution_count": 41,
   "id": "5e9e7941",
   "metadata": {},
   "outputs": [],
   "source": [
    "x_train_s=scaler.transform(x_train)"
   ]
  },
  {
   "cell_type": "code",
   "execution_count": 43,
   "id": "d6910534",
   "metadata": {},
   "outputs": [],
   "source": [
    "x_test_s=scaler.transform(x_test)"
   ]
  },
  {
   "cell_type": "code",
   "execution_count": 44,
   "id": "7e086413",
   "metadata": {},
   "outputs": [],
   "source": [
    "from sklearn.linear_model import Ridge"
   ]
  },
  {
   "cell_type": "code",
   "execution_count": 46,
   "id": "176d49b3",
   "metadata": {},
   "outputs": [],
   "source": [
    "lm_r=Ridge(alpha=0.5)"
   ]
  },
  {
   "cell_type": "code",
   "execution_count": 47,
   "id": "d853efb3",
   "metadata": {},
   "outputs": [
    {
     "data": {
      "text/plain": [
       "Ridge(alpha=0.5)"
      ]
     },
     "execution_count": 47,
     "metadata": {},
     "output_type": "execute_result"
    }
   ],
   "source": [
    "lm_r.fit(x_train_s,y_train)  "
   ]
  },
  {
   "cell_type": "code",
   "execution_count": 48,
   "id": "a553b4a2",
   "metadata": {},
   "outputs": [
    {
     "data": {
      "text/plain": [
       "0.6218100187072622"
      ]
     },
     "execution_count": 48,
     "metadata": {},
     "output_type": "execute_result"
    }
   ],
   "source": [
    "r2_score(y_test,lm_r.predict(x_test_s))"
   ]
  },
  {
   "cell_type": "code",
   "execution_count": 49,
   "id": "dd6a46ff",
   "metadata": {},
   "outputs": [],
   "source": [
    "from sklearn.model_selection import validation_curve"
   ]
  },
  {
   "cell_type": "code",
   "execution_count": 50,
   "id": "47e4cc00",
   "metadata": {},
   "outputs": [],
   "source": [
    "p_range=np.logspace(-2,8,100)"
   ]
  },
  {
   "cell_type": "code",
   "execution_count": 52,
   "id": "228da90e",
   "metadata": {},
   "outputs": [
    {
     "name": "stderr",
     "output_type": "stream",
     "text": [
      "D:\\conda\\lib\\site-packages\\sklearn\\utils\\validation.py:70: FutureWarning: Pass param_name=alpha, param_range=[1.00000000e-02 1.26185688e-02 1.59228279e-02 2.00923300e-02\n",
      " 2.53536449e-02 3.19926714e-02 4.03701726e-02 5.09413801e-02\n",
      " 6.42807312e-02 8.11130831e-02 1.02353102e-01 1.29154967e-01\n",
      " 1.62975083e-01 2.05651231e-01 2.59502421e-01 3.27454916e-01\n",
      " 4.13201240e-01 5.21400829e-01 6.57933225e-01 8.30217568e-01\n",
      " 1.04761575e+00 1.32194115e+00 1.66810054e+00 2.10490414e+00\n",
      " 2.65608778e+00 3.35160265e+00 4.22924287e+00 5.33669923e+00\n",
      " 6.73415066e+00 8.49753436e+00 1.07226722e+01 1.35304777e+01\n",
      " 1.70735265e+01 2.15443469e+01 2.71858824e+01 3.43046929e+01\n",
      " 4.32876128e+01 5.46227722e+01 6.89261210e+01 8.69749003e+01\n",
      " 1.09749877e+02 1.38488637e+02 1.74752840e+02 2.20513074e+02\n",
      " 2.78255940e+02 3.51119173e+02 4.43062146e+02 5.59081018e+02\n",
      " 7.05480231e+02 8.90215085e+02 1.12332403e+03 1.41747416e+03\n",
      " 1.78864953e+03 2.25701972e+03 2.84803587e+03 3.59381366e+03\n",
      " 4.53487851e+03 5.72236766e+03 7.22080902e+03 9.11162756e+03\n",
      " 1.14975700e+04 1.45082878e+04 1.83073828e+04 2.31012970e+04\n",
      " 2.91505306e+04 3.67837977e+04 4.64158883e+04 5.85702082e+04\n",
      " 7.39072203e+04 9.32603347e+04 1.17681195e+05 1.48496826e+05\n",
      " 1.87381742e+05 2.36448941e+05 2.98364724e+05 3.76493581e+05\n",
      " 4.75081016e+05 5.99484250e+05 7.56463328e+05 9.54548457e+05\n",
      " 1.20450354e+06 1.51991108e+06 1.91791026e+06 2.42012826e+06\n",
      " 3.05385551e+06 3.85352859e+06 4.86260158e+06 6.13590727e+06\n",
      " 7.74263683e+06 9.77009957e+06 1.23284674e+07 1.55567614e+07\n",
      " 1.96304065e+07 2.47707636e+07 3.12571585e+07 3.94420606e+07\n",
      " 4.97702356e+07 6.28029144e+07 7.92482898e+07 1.00000000e+08] as keyword args. From version 1.0 (renaming of 0.25) passing these as positional arguments will result in an error\n",
      "  warnings.warn(f\"Pass {args_msg} as keyword args. From version \"\n"
     ]
    }
   ],
   "source": [
    "train_scores,test_score=validation_curve(Ridge(),x_train_s,y_train,'alpha',p_range,scoring='r2')"
   ]
  },
  {
   "cell_type": "code",
   "execution_count": 54,
   "id": "3b39e660",
   "metadata": {},
   "outputs": [],
   "source": [
    "train_mean=np.mean(train_scores,axis=1)"
   ]
  },
  {
   "cell_type": "code",
   "execution_count": 56,
   "id": "48be4fe7",
   "metadata": {},
   "outputs": [],
   "source": [
    "test_mean=np.mean(test_score,axis=1)"
   ]
  },
  {
   "cell_type": "code",
   "execution_count": 57,
   "id": "15a93aa9",
   "metadata": {},
   "outputs": [
    {
     "data": {
      "text/plain": [
       "(array([32], dtype=int64),)"
      ]
     },
     "execution_count": 57,
     "metadata": {},
     "output_type": "execute_result"
    }
   ],
   "source": [
    "np.where(test_mean==max(test_mean))"
   ]
  },
  {
   "cell_type": "code",
   "execution_count": 58,
   "id": "61efc8f8",
   "metadata": {},
   "outputs": [
    {
     "data": {
      "text/plain": [
       "17.073526474706906"
      ]
     },
     "execution_count": 58,
     "metadata": {},
     "output_type": "execute_result"
    }
   ],
   "source": [
    "p_range[32]"
   ]
  },
  {
   "cell_type": "code",
   "execution_count": 60,
   "id": "3ef62906",
   "metadata": {},
   "outputs": [],
   "source": [
    "lm_r_best=Ridge(alpha=p_range[32])"
   ]
  },
  {
   "cell_type": "code",
   "execution_count": 61,
   "id": "37004897",
   "metadata": {},
   "outputs": [
    {
     "data": {
      "text/plain": [
       "Ridge(alpha=17.073526474706906)"
      ]
     },
     "execution_count": 61,
     "metadata": {},
     "output_type": "execute_result"
    }
   ],
   "source": [
    "lm_r_best.fit(x_train_s,y_train)"
   ]
  },
  {
   "cell_type": "code",
   "execution_count": 62,
   "id": "a903bc4a",
   "metadata": {},
   "outputs": [
    {
     "data": {
      "text/plain": [
       "0.6217088170658138"
      ]
     },
     "execution_count": 62,
     "metadata": {},
     "output_type": "execute_result"
    }
   ],
   "source": [
    "r2_score(y_test,lm_r_best.predict(x_test_s))"
   ]
  },
  {
   "cell_type": "code",
   "execution_count": 63,
   "id": "3ff4a327",
   "metadata": {},
   "outputs": [],
   "source": [
    "from sklearn.linear_model import Lasso"
   ]
  },
  {
   "cell_type": "code",
   "execution_count": 64,
   "id": "6b12c7c2",
   "metadata": {},
   "outputs": [],
   "source": [
    "las=Lasso(alpha=p_range[32])"
   ]
  },
  {
   "cell_type": "code",
   "execution_count": 65,
   "id": "a3a8feec",
   "metadata": {},
   "outputs": [],
   "source": [
    "las_r=las.fit(x_train_s,y_train)"
   ]
  },
  {
   "cell_type": "code",
   "execution_count": 67,
   "id": "a31e8368",
   "metadata": {},
   "outputs": [
    {
     "data": {
      "text/plain": [
       "0.6217813215824115"
      ]
     },
     "execution_count": 67,
     "metadata": {},
     "output_type": "execute_result"
    }
   ],
   "source": [
    "r2_score(y_test,las_r.predict(x_test_s))"
   ]
  },
  {
   "cell_type": "code",
   "execution_count": null,
   "id": "f8996685",
   "metadata": {},
   "outputs": [],
   "source": []
  }
 ],
 "metadata": {
  "kernelspec": {
   "display_name": "Python 3 (ipykernel)",
   "language": "python",
   "name": "python3"
  },
  "language_info": {
   "codemirror_mode": {
    "name": "ipython",
    "version": 3
   },
   "file_extension": ".py",
   "mimetype": "text/x-python",
   "name": "python",
   "nbconvert_exporter": "python",
   "pygments_lexer": "ipython3",
   "version": "3.9.7"
  }
 },
 "nbformat": 4,
 "nbformat_minor": 5
}
